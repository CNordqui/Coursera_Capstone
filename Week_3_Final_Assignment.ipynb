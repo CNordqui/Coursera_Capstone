{
  "nbformat": 4,
  "nbformat_minor": 0,
  "metadata": {
    "colab": {
      "name": "Week 3 Final Assignment.ipynb",
      "provenance": [],
      "authorship_tag": "ABX9TyPM91RxaHz+Dl3lDrtXRqEl",
      "include_colab_link": true
    },
    "kernelspec": {
      "name": "python3",
      "display_name": "Python 3"
    }
  },
  "cells": [
    {
      "cell_type": "markdown",
      "metadata": {
        "id": "view-in-github",
        "colab_type": "text"
      },
      "source": [
        "<a href=\"https://colab.research.google.com/github/CNordqui/Coursera_Capstone/blob/master/Week_3_Final_Assignment.ipynb\" target=\"_parent\"><img src=\"https://colab.research.google.com/assets/colab-badge.svg\" alt=\"Open In Colab\"/></a>"
      ]
    },
    {
      "cell_type": "markdown",
      "metadata": {
        "id": "aaDiwHJiYagj",
        "colab_type": "text"
      },
      "source": [
        "This notebook is Capria Nordquist's final assignment for Week 3 of the Applied Data Science Capstone Project Course"
      ]
    },
    {
      "cell_type": "code",
      "metadata": {
        "id": "irv5MAhnYTBH",
        "colab_type": "code",
        "outputId": "5053151e-2227-4b39-96f8-f3a58c33bccd",
        "colab": {
          "base_uri": "https://localhost:8080/",
          "height": 438
        }
      },
      "source": [
        "import pandas as pd\n",
        "import numpy as np\n",
        "#I copied the data from Wikipedia and then pasted it into an excel spreadsheet. And read it into the pandas dataframe here. \n",
        "df = pd.read_excel('Week Three Assignment.xlsx')\n",
        "#Next, I dropped replaced all of the 'Not Assigned' statements that were most prevalent in the Borough with NaN\n",
        "df = df.replace(r'Not assigned', np.NaN, regex=True)\n",
        "#Here, I changed the header to the first row of the data by first grabbing the first row\n",
        "new_header = df.iloc[0] \n",
        "#changing the data so it is all the data below the header row\n",
        "df = df[1:]\n",
        "#and making the switch to the header\n",
        "df.columns = new_header\n",
        "#I dropped all of the rows in which the Borough columned had values of \"Not Assigned\" or NaN\n",
        "df.dropna(subset=['Borough'], inplace=True)\n",
        "#Finally, printed the shape and the first 12 elements of the df\n",
        "print(df.shape)\n",
        "df.head(12)\n"
      ],
      "execution_count": 92,
      "outputs": [
        {
          "output_type": "stream",
          "text": [
            "(103, 3)\n"
          ],
          "name": "stdout"
        },
        {
          "output_type": "execute_result",
          "data": {
            "text/html": [
              "<div>\n",
              "<style scoped>\n",
              "    .dataframe tbody tr th:only-of-type {\n",
              "        vertical-align: middle;\n",
              "    }\n",
              "\n",
              "    .dataframe tbody tr th {\n",
              "        vertical-align: top;\n",
              "    }\n",
              "\n",
              "    .dataframe thead th {\n",
              "        text-align: right;\n",
              "    }\n",
              "</style>\n",
              "<table border=\"1\" class=\"dataframe\">\n",
              "  <thead>\n",
              "    <tr style=\"text-align: right;\">\n",
              "      <th></th>\n",
              "      <th>Postal Code</th>\n",
              "      <th>Borough</th>\n",
              "      <th>Neighborhood</th>\n",
              "    </tr>\n",
              "  </thead>\n",
              "  <tbody>\n",
              "    <tr>\n",
              "      <th>3</th>\n",
              "      <td>M3A</td>\n",
              "      <td>North York</td>\n",
              "      <td>Parkwoods</td>\n",
              "    </tr>\n",
              "    <tr>\n",
              "      <th>4</th>\n",
              "      <td>M4A</td>\n",
              "      <td>North York</td>\n",
              "      <td>Victoria Village</td>\n",
              "    </tr>\n",
              "    <tr>\n",
              "      <th>5</th>\n",
              "      <td>M5A</td>\n",
              "      <td>Downtown Toronto</td>\n",
              "      <td>Regent Park, Harbourfront</td>\n",
              "    </tr>\n",
              "    <tr>\n",
              "      <th>6</th>\n",
              "      <td>M6A</td>\n",
              "      <td>North York</td>\n",
              "      <td>Lawrence Manor, Lawrence Heights</td>\n",
              "    </tr>\n",
              "    <tr>\n",
              "      <th>7</th>\n",
              "      <td>M7A</td>\n",
              "      <td>Downtown Toronto</td>\n",
              "      <td>Queen's Park, Ontario Provincial Government</td>\n",
              "    </tr>\n",
              "    <tr>\n",
              "      <th>9</th>\n",
              "      <td>M9A</td>\n",
              "      <td>Etobicoke</td>\n",
              "      <td>Islington Avenue, Humber Valley Village</td>\n",
              "    </tr>\n",
              "    <tr>\n",
              "      <th>10</th>\n",
              "      <td>M1B</td>\n",
              "      <td>Scarborough</td>\n",
              "      <td>Malvern, Rouge</td>\n",
              "    </tr>\n",
              "    <tr>\n",
              "      <th>12</th>\n",
              "      <td>M3B</td>\n",
              "      <td>North York</td>\n",
              "      <td>Don Mills</td>\n",
              "    </tr>\n",
              "    <tr>\n",
              "      <th>13</th>\n",
              "      <td>M4B</td>\n",
              "      <td>East York</td>\n",
              "      <td>Parkview Hill, Woodbine Gardens</td>\n",
              "    </tr>\n",
              "    <tr>\n",
              "      <th>14</th>\n",
              "      <td>M5B</td>\n",
              "      <td>Downtown Toronto</td>\n",
              "      <td>Garden District, Ryerson</td>\n",
              "    </tr>\n",
              "    <tr>\n",
              "      <th>15</th>\n",
              "      <td>M6B</td>\n",
              "      <td>North York</td>\n",
              "      <td>Glencairn</td>\n",
              "    </tr>\n",
              "    <tr>\n",
              "      <th>18</th>\n",
              "      <td>M9B</td>\n",
              "      <td>Etobicoke</td>\n",
              "      <td>West Deane Park, Princess Gardens, Martin Grov...</td>\n",
              "    </tr>\n",
              "  </tbody>\n",
              "</table>\n",
              "</div>"
            ],
            "text/plain": [
              "0  Postal Code  ...                                       Neighborhood\n",
              "3          M3A  ...                                          Parkwoods\n",
              "4          M4A  ...                                   Victoria Village\n",
              "5          M5A  ...                          Regent Park, Harbourfront\n",
              "6          M6A  ...                   Lawrence Manor, Lawrence Heights\n",
              "7          M7A  ...        Queen's Park, Ontario Provincial Government\n",
              "9          M9A  ...            Islington Avenue, Humber Valley Village\n",
              "10         M1B  ...                                     Malvern, Rouge\n",
              "12         M3B  ...                                          Don Mills\n",
              "13         M4B  ...                    Parkview Hill, Woodbine Gardens\n",
              "14         M5B  ...                           Garden District, Ryerson\n",
              "15         M6B  ...                                          Glencairn\n",
              "18         M9B  ...  West Deane Park, Princess Gardens, Martin Grov...\n",
              "\n",
              "[12 rows x 3 columns]"
            ]
          },
          "metadata": {
            "tags": []
          },
          "execution_count": 92
        }
      ]
    },
    {
      "cell_type": "code",
      "metadata": {
        "id": "A2Uf70gxkiwY",
        "colab_type": "code",
        "colab": {}
      },
      "source": [
        ""
      ],
      "execution_count": 0,
      "outputs": []
    }
  ]
}