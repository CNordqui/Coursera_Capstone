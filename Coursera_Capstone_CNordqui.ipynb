{
  "nbformat": 4,
  "nbformat_minor": 0,
  "metadata": {
    "colab": {
      "name": "Coursera_Capstone CNordqui.ipynb",
      "provenance": [],
      "authorship_tag": "ABX9TyPfVSyijPcHSFZgQNCue2Eg",
      "include_colab_link": true
    },
    "kernelspec": {
      "name": "python3",
      "display_name": "Python 3"
    }
  },
  "cells": [
    {
      "cell_type": "markdown",
      "metadata": {
        "id": "view-in-github",
        "colab_type": "text"
      },
      "source": [
        "<a href=\"https://colab.research.google.com/github/CNordqui/Coursera_Capstone/blob/master/Coursera_Capstone_CNordqui.ipynb\" target=\"_parent\"><img src=\"https://colab.research.google.com/assets/colab-badge.svg\" alt=\"Open In Colab\"/></a>"
      ]
    },
    {
      "cell_type": "markdown",
      "metadata": {
        "id": "6z2BZ7srumtY",
        "colab_type": "text"
      },
      "source": [
        "**This notebook is for the Coursera Capstone Project for the Applied Data Science Specialization offered by IBM.** \n",
        "\n",
        "\n"
      ]
    },
    {
      "cell_type": "markdown",
      "metadata": {
        "id": "3Ftib24mu3U1",
        "colab_type": "text"
      },
      "source": [
        "**Introduction/Business Problem:**\n",
        "\n",
        "Due to habitat destruction in Australia from human activity and wildfires, many animals are restricted to sanctuaries and conservation territories. For individuals living in Australia and tourists, they may want to see the amazing creatures of Australia that have recently had diminishing populations. However, it is difficult to find these animals or even determine in which province they can be found. Therefore, the solution is generating a map where individuals can find Herbivorous Marsupials (undoubtedly the most popular subset of Australian animals which includes kangaroos and koalas) in the various provinces of Australia. Tourists and adventurers will be able to use this map to determine which province would be best to travel to in order to see these amazing wonders of Australia. In order to generate the map, I will be using Australian data which includes the regions from which the animals can be found as well as Foursquare data to show where conservancies are in the region that has the most Herbivorous Marsupials. "
      ]
    },
    {
      "cell_type": "markdown",
      "metadata": {
        "id": "_kGybY4qv71j",
        "colab_type": "text"
      },
      "source": [
        "**Data:**\n",
        "\n",
        "The Data for this project is from Foursquare as well as from the Atlas of Living Australia. The data was downloaded and then copy and pasted into an excel spreadsheet. I deleted the columns titled \"Species\" and \"Invasive\" because the species column had urls to learn more about the spcies and the invasive column only denoted one animal as being an invasive specie. Then, I deleted the column \"Scientific Name Authorship\" because this information just gave the credit to whoever first found the species and named it-data that won't be important in this project. I then uploaded the excel spreadsheet as seen below and cleaned it up so only rows that had all of the columns filled were displayed. I will be using this data to determine in which province on Australia someone can find the most Herbivorous Marsupials and will then be using Foursquare data to determine where most conservancies and sanctuaries in that province can be found. This data will solve the problems of where tourists and explorers should go in order to see these amazing animals. "
      ]
    },
    {
      "cell_type": "code",
      "metadata": {
        "id": "TVpg7TNmTNZB",
        "colab_type": "code",
        "outputId": "2dbc21f0-dbc6-4872-df7b-17af7549b46c",
        "colab": {
          "base_uri": "https://localhost:8080/",
          "height": 814
        }
      },
      "source": [
        "import pandas as pd\n",
        "import numpy as np\n",
        "#I copied the data from Wikipedia and then pasted it into an excel spreadsheet. And read it into the pandas dataframe here. \n",
        "df = pd.read_excel('Herbivorous Marsupials.xlsx')\n",
        "#Cleaning up the data\n",
        "df.dropna(subset=['Conservation'], inplace=True)\n",
        "df"
      ],
      "execution_count": 32,
      "outputs": [
        {
          "output_type": "execute_result",
          "data": {
            "text/html": [
              "<div>\n",
              "<style scoped>\n",
              "    .dataframe tbody tr th:only-of-type {\n",
              "        vertical-align: middle;\n",
              "    }\n",
              "\n",
              "    .dataframe tbody tr th {\n",
              "        vertical-align: top;\n",
              "    }\n",
              "\n",
              "    .dataframe thead th {\n",
              "        text-align: right;\n",
              "    }\n",
              "</style>\n",
              "<table border=\"1\" class=\"dataframe\">\n",
              "  <thead>\n",
              "    <tr style=\"text-align: right;\">\n",
              "      <th></th>\n",
              "      <th>Species Name</th>\n",
              "      <th>Taxon Rank</th>\n",
              "      <th>Kingdom</th>\n",
              "      <th>Phylum</th>\n",
              "      <th>Class</th>\n",
              "      <th>Order</th>\n",
              "      <th>Family</th>\n",
              "      <th>Genus</th>\n",
              "      <th>Vernacular Name</th>\n",
              "      <th>Conservation</th>\n",
              "    </tr>\n",
              "  </thead>\n",
              "  <tbody>\n",
              "    <tr>\n",
              "      <th>0</th>\n",
              "      <td>Phascolarctos cinereus</td>\n",
              "      <td>species</td>\n",
              "      <td>ANIMALIA</td>\n",
              "      <td>CHORDATA</td>\n",
              "      <td>MAMMALIA</td>\n",
              "      <td>DIPROTODONTIA</td>\n",
              "      <td>PHASCOLARCTIDAE</td>\n",
              "      <td>Phascolarctos</td>\n",
              "      <td>Koala</td>\n",
              "      <td>Queensland</td>\n",
              "    </tr>\n",
              "    <tr>\n",
              "      <th>1</th>\n",
              "      <td>Trichosurus vulpecula</td>\n",
              "      <td>species</td>\n",
              "      <td>ANIMALIA</td>\n",
              "      <td>CHORDATA</td>\n",
              "      <td>MAMMALIA</td>\n",
              "      <td>DIPROTODONTIA</td>\n",
              "      <td>PHALANGERIDAE</td>\n",
              "      <td>Trichosurus</td>\n",
              "      <td>Common Brushtail Possum</td>\n",
              "      <td>South Australia, Queensland, Northern Territory</td>\n",
              "    </tr>\n",
              "    <tr>\n",
              "      <th>2</th>\n",
              "      <td>Petaurus norfolcensis</td>\n",
              "      <td>species</td>\n",
              "      <td>ANIMALIA</td>\n",
              "      <td>CHORDATA</td>\n",
              "      <td>MAMMALIA</td>\n",
              "      <td>DIPROTODONTIA</td>\n",
              "      <td>PETAURIDAE</td>\n",
              "      <td>Petaurus</td>\n",
              "      <td>Squirrel Glider</td>\n",
              "      <td>South Australia, Queensland, Victoria</td>\n",
              "    </tr>\n",
              "    <tr>\n",
              "      <th>3</th>\n",
              "      <td>Pseudocheirus peregrinus</td>\n",
              "      <td>species</td>\n",
              "      <td>ANIMALIA</td>\n",
              "      <td>CHORDATA</td>\n",
              "      <td>MAMMALIA</td>\n",
              "      <td>DIPROTODONTIA</td>\n",
              "      <td>PSEUDOCHEIRIDAE</td>\n",
              "      <td>Pseudocheirus</td>\n",
              "      <td>Common Ringtail Possum</td>\n",
              "      <td>Queensland</td>\n",
              "    </tr>\n",
              "    <tr>\n",
              "      <th>4</th>\n",
              "      <td>Wallabia bicolor</td>\n",
              "      <td>species</td>\n",
              "      <td>ANIMALIA</td>\n",
              "      <td>CHORDATA</td>\n",
              "      <td>MAMMALIA</td>\n",
              "      <td>DIPROTODONTIA</td>\n",
              "      <td>MACROPODIDAE</td>\n",
              "      <td>Wallabia</td>\n",
              "      <td>Swamp Wallaby</td>\n",
              "      <td>South Australia, Queensland</td>\n",
              "    </tr>\n",
              "    <tr>\n",
              "      <th>5</th>\n",
              "      <td>Macropus giganteus</td>\n",
              "      <td>species</td>\n",
              "      <td>ANIMALIA</td>\n",
              "      <td>CHORDATA</td>\n",
              "      <td>MAMMALIA</td>\n",
              "      <td>DIPROTODONTIA</td>\n",
              "      <td>MACROPODIDAE</td>\n",
              "      <td>Macropus</td>\n",
              "      <td>Eastern Grey Kangaroo</td>\n",
              "      <td>South Australia, Queensland</td>\n",
              "    </tr>\n",
              "    <tr>\n",
              "      <th>6</th>\n",
              "      <td>Notamacropus rufogriseus</td>\n",
              "      <td>species</td>\n",
              "      <td>ANIMALIA</td>\n",
              "      <td>CHORDATA</td>\n",
              "      <td>MAMMALIA</td>\n",
              "      <td>DIPROTODONTIA</td>\n",
              "      <td>MACROPODIDAE</td>\n",
              "      <td>Notamacropus</td>\n",
              "      <td>Red-Necked Wallaby</td>\n",
              "      <td>South Australia, Queensland</td>\n",
              "    </tr>\n",
              "    <tr>\n",
              "      <th>7</th>\n",
              "      <td>Petaurus breviceps</td>\n",
              "      <td>species</td>\n",
              "      <td>ANIMALIA</td>\n",
              "      <td>CHORDATA</td>\n",
              "      <td>MAMMALIA</td>\n",
              "      <td>DIPROTODONTIA</td>\n",
              "      <td>PETAURIDAE</td>\n",
              "      <td>Petaurus</td>\n",
              "      <td>Sugar Glider</td>\n",
              "      <td>South Australia, Queensland, Northern Territory</td>\n",
              "    </tr>\n",
              "    <tr>\n",
              "      <th>8</th>\n",
              "      <td>Trichosurus caninus</td>\n",
              "      <td>species</td>\n",
              "      <td>ANIMALIA</td>\n",
              "      <td>CHORDATA</td>\n",
              "      <td>MAMMALIA</td>\n",
              "      <td>DIPROTODONTIA</td>\n",
              "      <td>PHALANGERIDAE</td>\n",
              "      <td>Trichosurus</td>\n",
              "      <td>Mountain Brushtail Possum</td>\n",
              "      <td>Queensland</td>\n",
              "    </tr>\n",
              "    <tr>\n",
              "      <th>9</th>\n",
              "      <td>Acrobates pygmaeus</td>\n",
              "      <td>species</td>\n",
              "      <td>ANIMALIA</td>\n",
              "      <td>CHORDATA</td>\n",
              "      <td>MAMMALIA</td>\n",
              "      <td>DIPROTODONTIA</td>\n",
              "      <td>ACROBATIDAE</td>\n",
              "      <td>Acrobates</td>\n",
              "      <td>Feathertail Glider</td>\n",
              "      <td>South Australia, Queensland</td>\n",
              "    </tr>\n",
              "    <tr>\n",
              "      <th>11</th>\n",
              "      <td>Thylogale thetis</td>\n",
              "      <td>species</td>\n",
              "      <td>ANIMALIA</td>\n",
              "      <td>CHORDATA</td>\n",
              "      <td>MAMMALIA</td>\n",
              "      <td>DIPROTODONTIA</td>\n",
              "      <td>MACROPODIDAE</td>\n",
              "      <td>Thylogale</td>\n",
              "      <td>Red-Necked Pademelon</td>\n",
              "      <td>Queensland</td>\n",
              "    </tr>\n",
              "    <tr>\n",
              "      <th>12</th>\n",
              "      <td>Notamacropus parryi</td>\n",
              "      <td>species</td>\n",
              "      <td>ANIMALIA</td>\n",
              "      <td>CHORDATA</td>\n",
              "      <td>MAMMALIA</td>\n",
              "      <td>DIPROTODONTIA</td>\n",
              "      <td>MACROPODIDAE</td>\n",
              "      <td>Notamacropus</td>\n",
              "      <td>Whiptail Wallaby</td>\n",
              "      <td>Queensland</td>\n",
              "    </tr>\n",
              "    <tr>\n",
              "      <th>13</th>\n",
              "      <td>Aepyprymnus rufescens</td>\n",
              "      <td>species</td>\n",
              "      <td>ANIMALIA</td>\n",
              "      <td>CHORDATA</td>\n",
              "      <td>MAMMALIA</td>\n",
              "      <td>DIPROTODONTIA</td>\n",
              "      <td>POTOROIDAE</td>\n",
              "      <td>Aepyprymnus</td>\n",
              "      <td>Rufous Bettong</td>\n",
              "      <td>Queensland, Victoria, New South Wales</td>\n",
              "    </tr>\n",
              "    <tr>\n",
              "      <th>14</th>\n",
              "      <td>Notamacropus dorsalis</td>\n",
              "      <td>species</td>\n",
              "      <td>ANIMALIA</td>\n",
              "      <td>CHORDATA</td>\n",
              "      <td>MAMMALIA</td>\n",
              "      <td>DIPROTODONTIA</td>\n",
              "      <td>MACROPODIDAE</td>\n",
              "      <td>Notamacropus</td>\n",
              "      <td>Black-Striped Wallaby</td>\n",
              "      <td>Queensland, New South Wales</td>\n",
              "    </tr>\n",
              "    <tr>\n",
              "      <th>15</th>\n",
              "      <td>Thylogale stigmatica</td>\n",
              "      <td>species</td>\n",
              "      <td>ANIMALIA</td>\n",
              "      <td>CHORDATA</td>\n",
              "      <td>MAMMALIA</td>\n",
              "      <td>DIPROTODONTIA</td>\n",
              "      <td>MACROPODIDAE</td>\n",
              "      <td>Thylogale</td>\n",
              "      <td>Red-Legged Pademelon</td>\n",
              "      <td>Queensland</td>\n",
              "    </tr>\n",
              "    <tr>\n",
              "      <th>17</th>\n",
              "      <td>Potorous tridactylus</td>\n",
              "      <td>species</td>\n",
              "      <td>ANIMALIA</td>\n",
              "      <td>CHORDATA</td>\n",
              "      <td>MAMMALIA</td>\n",
              "      <td>DIPROTODONTIA</td>\n",
              "      <td>POTOROIDAE</td>\n",
              "      <td>Potorous</td>\n",
              "      <td>Long-Nosed Potoroo</td>\n",
              "      <td>South Australia</td>\n",
              "    </tr>\n",
              "    <tr>\n",
              "      <th>18</th>\n",
              "      <td>Osphranter rufus</td>\n",
              "      <td>species</td>\n",
              "      <td>ANIMALIA</td>\n",
              "      <td>CHORDATA</td>\n",
              "      <td>MAMMALIA</td>\n",
              "      <td>DIPROTODONTIA</td>\n",
              "      <td>MACROPODIDAE</td>\n",
              "      <td>Osphranter</td>\n",
              "      <td>Red Kangaroo</td>\n",
              "      <td>Queensland, Northern Territory</td>\n",
              "    </tr>\n",
              "  </tbody>\n",
              "</table>\n",
              "</div>"
            ],
            "text/plain": [
              "                Species Name  ...                                      Conservation\n",
              "0     Phascolarctos cinereus  ...                                        Queensland\n",
              "1      Trichosurus vulpecula  ...  South Australia, Queensland, Northern Territory \n",
              "2      Petaurus norfolcensis  ...             South Australia, Queensland, Victoria\n",
              "3   Pseudocheirus peregrinus  ...                                       Queensland \n",
              "4           Wallabia bicolor  ...                       South Australia, Queensland\n",
              "5         Macropus giganteus  ...                      South Australia, Queensland \n",
              "6   Notamacropus rufogriseus  ...                      South Australia, Queensland \n",
              "7         Petaurus breviceps  ...   South Australia, Queensland, Northern Territory\n",
              "8        Trichosurus caninus  ...                                        Queensland\n",
              "9         Acrobates pygmaeus  ...                      South Australia, Queensland \n",
              "11          Thylogale thetis  ...                                       Queensland \n",
              "12       Notamacropus parryi  ...                                       Queensland \n",
              "13     Aepyprymnus rufescens  ...            Queensland, Victoria, New South Wales \n",
              "14     Notamacropus dorsalis  ...                      Queensland, New South Wales \n",
              "15      Thylogale stigmatica  ...                                       Queensland \n",
              "17      Potorous tridactylus  ...                                  South Australia \n",
              "18          Osphranter rufus  ...                   Queensland, Northern Territory \n",
              "\n",
              "[17 rows x 10 columns]"
            ]
          },
          "metadata": {
            "tags": []
          },
          "execution_count": 32
        }
      ]
    },
    {
      "cell_type": "markdown",
      "metadata": {
        "id": "r0LO6YbgzmW1",
        "colab_type": "text"
      },
      "source": [
        "In order to determine the province in Australia with the largest number of these Herbivorous Marsupials, I need to look at the column titled 'Conservation' that lists the provinces in which the marsupials are considered to be under conservation. By tallying up all the numbers, there are 16 considered conserved in Queensland, 2 in Victoria, 8 in South Australia, 3 in Northern Territoriy, and 2 in New South Wales. Therefore, the province that has the greatest number of Herbivorous Marsupials in Queensland. Therefore, we will be using Foursquare data to look up conservancies and sanctuaries for these animals in Queensland. See dataframe showing the locations of these animals below. "
      ]
    },
    {
      "cell_type": "code",
      "metadata": {
        "id": "ywCahcz1TjtA",
        "colab_type": "code",
        "colab": {
          "base_uri": "https://localhost:8080/",
          "height": 323
        },
        "outputId": "0ccda124-bf11-4e07-85e7-72e58424ff7d"
      },
      "source": [
        "df['Conservation']"
      ],
      "execution_count": 33,
      "outputs": [
        {
          "output_type": "execute_result",
          "data": {
            "text/plain": [
              "0                                           Queensland\n",
              "1     South Australia, Queensland, Northern Territory \n",
              "2                South Australia, Queensland, Victoria\n",
              "3                                          Queensland \n",
              "4                          South Australia, Queensland\n",
              "5                         South Australia, Queensland \n",
              "6                         South Australia, Queensland \n",
              "7      South Australia, Queensland, Northern Territory\n",
              "8                                           Queensland\n",
              "9                         South Australia, Queensland \n",
              "11                                         Queensland \n",
              "12                                         Queensland \n",
              "13              Queensland, Victoria, New South Wales \n",
              "14                        Queensland, New South Wales \n",
              "15                                         Queensland \n",
              "17                                    South Australia \n",
              "18                     Queensland, Northern Territory \n",
              "Name: Conservation, dtype: object"
            ]
          },
          "metadata": {
            "tags": []
          },
          "execution_count": 33
        }
      ]
    },
    {
      "cell_type": "markdown",
      "metadata": {
        "id": "oGW1DoXDpX77",
        "colab_type": "text"
      },
      "source": [
        "I did some research in the Queensland area since the region is much too big to do a Foursquare geodata analysis on, and discovered that the Gold Coast is home to the greatest number of zoos, wildlife rehabilitation centers, and wildlife sanctuaries, giving the best chance of the presence of herbivorous marsupials. Therefore, moving forward, I will be analyzing the region of the Gold Coast to prove with the Foursquare data that this region has the greatest herbivorous marsupial populations. "
      ]
    },
    {
      "cell_type": "code",
      "metadata": {
        "id": "V_qMuPPezjPZ",
        "colab_type": "code",
        "colab": {
          "base_uri": "https://localhost:8080/",
          "height": 1000
        },
        "outputId": "b5c9906c-5f01-420c-9325-03af218f5555"
      },
      "source": [
        "CLIENT_ID = 'UJ0BSIUED1BG3O5GYR2ZH1JPI453E2JZYLFAGTEVWVGDHQKD' # your Foursquare ID\n",
        "CLIENT_SECRET = 'IVZFIFBPEPDO0JHBX2K1NAZ2IX4ZFUUWNCS5OQSRQKLSA0AD' # your Foursquare Secret\n",
        "VERSION = '20180605' # Foursquare API version\n",
        "LIMIT=100\n",
        "radius=500\n",
        "# create map of Gold Coast, Australia using latitude and longitude values and by inputting an address that helps to make the data more specific \n",
        "#it is the address of Currumbin Wildlife Sanctuary\n",
        "!pip install geopandas\n",
        "!pip install geopy\n",
        "from geopy.geocoders import Nominatim\n",
        "address = '28 Tomewin St, Currumbin QLD 4223, Australia'\n",
        "geolocator = Nominatim(user_agent=\"ny_explorer\")\n",
        "location = geolocator.geocode(address)\n",
        "\n",
        "#creating and displaying the map of Gold Coast, Australia\n",
        "import folium\n",
        "latitude=location.latitude\n",
        "longitude=location.longitude\n",
        "map_Queensland = folium.Map(location= [latitude, longitude], zoom_start=8)\n",
        "#get the url from foursquare in order to use foursquare to analyze the venues near this location\n",
        "url = 'https://api.foursquare.com/v2/venues/explore?&client_id={}&client_secret={}&v={}&ll={},{}&radius={}&limit={}'.format(\n",
        "    CLIENT_ID, \n",
        "    CLIENT_SECRET, \n",
        "    VERSION, \n",
        "    latitude, \n",
        "    longitude, \n",
        "    radius, \n",
        "    LIMIT)\n",
        "map_Queensland"
      ],
      "execution_count": 34,
      "outputs": [
        {
          "output_type": "stream",
          "text": [
            "Requirement already satisfied: geopandas in /usr/local/lib/python3.6/dist-packages (0.7.0)\n",
            "Requirement already satisfied: fiona in /usr/local/lib/python3.6/dist-packages (from geopandas) (1.8.13.post1)\n",
            "Requirement already satisfied: pandas>=0.23.0 in /usr/local/lib/python3.6/dist-packages (from geopandas) (1.0.3)\n",
            "Requirement already satisfied: pyproj>=2.2.0 in /usr/local/lib/python3.6/dist-packages (from geopandas) (2.6.1.post1)\n",
            "Requirement already satisfied: shapely in /usr/local/lib/python3.6/dist-packages (from geopandas) (1.7.0)\n",
            "Requirement already satisfied: click-plugins>=1.0 in /usr/local/lib/python3.6/dist-packages (from fiona->geopandas) (1.1.1)\n",
            "Requirement already satisfied: attrs>=17 in /usr/local/lib/python3.6/dist-packages (from fiona->geopandas) (19.3.0)\n",
            "Requirement already satisfied: munch in /usr/local/lib/python3.6/dist-packages (from fiona->geopandas) (2.5.0)\n",
            "Requirement already satisfied: click<8,>=4.0 in /usr/local/lib/python3.6/dist-packages (from fiona->geopandas) (7.1.2)\n",
            "Requirement already satisfied: cligj>=0.5 in /usr/local/lib/python3.6/dist-packages (from fiona->geopandas) (0.5.0)\n",
            "Requirement already satisfied: six>=1.7 in /usr/local/lib/python3.6/dist-packages (from fiona->geopandas) (1.12.0)\n",
            "Requirement already satisfied: python-dateutil>=2.6.1 in /usr/local/lib/python3.6/dist-packages (from pandas>=0.23.0->geopandas) (2.8.1)\n",
            "Requirement already satisfied: pytz>=2017.2 in /usr/local/lib/python3.6/dist-packages (from pandas>=0.23.0->geopandas) (2018.9)\n",
            "Requirement already satisfied: numpy>=1.13.3 in /usr/local/lib/python3.6/dist-packages (from pandas>=0.23.0->geopandas) (1.18.4)\n",
            "Requirement already satisfied: geopy in /usr/local/lib/python3.6/dist-packages (1.17.0)\n",
            "Requirement already satisfied: geographiclib<2,>=1.49 in /usr/local/lib/python3.6/dist-packages (from geopy) (1.50)\n"
          ],
          "name": "stdout"
        },
        {
          "output_type": "execute_result",
          "data": {
            "text/html": [
              "<div style=\"width:100%;\"><div style=\"position:relative;width:100%;height:0;padding-bottom:60%;\"><span style=\"color:#565656\">Make this Notebook Trusted to load map: File -> Trust Notebook</span><iframe src=\"about:blank\" style=\"position:absolute;width:100%;height:100%;left:0;top:0;border:none !important;\" data-html=PCFET0NUWVBFIGh0bWw+CjxoZWFkPiAgICAKICAgIDxtZXRhIGh0dHAtZXF1aXY9ImNvbnRlbnQtdHlwZSIgY29udGVudD0idGV4dC9odG1sOyBjaGFyc2V0PVVURi04IiAvPgogICAgPHNjcmlwdD5MX1BSRUZFUl9DQU5WQVM9ZmFsc2U7IExfTk9fVE9VQ0g9ZmFsc2U7IExfRElTQUJMRV8zRD1mYWxzZTs8L3NjcmlwdD4KICAgIDxzY3JpcHQgc3JjPSJodHRwczovL2Nkbi5qc2RlbGl2ci5uZXQvbnBtL2xlYWZsZXRAMS40LjAvZGlzdC9sZWFmbGV0LmpzIj48L3NjcmlwdD4KICAgIDxzY3JpcHQgc3JjPSJodHRwczovL2NvZGUuanF1ZXJ5LmNvbS9qcXVlcnktMS4xMi40Lm1pbi5qcyI+PC9zY3JpcHQ+CiAgICA8c2NyaXB0IHNyYz0iaHR0cHM6Ly9tYXhjZG4uYm9vdHN0cmFwY2RuLmNvbS9ib290c3RyYXAvMy4yLjAvanMvYm9vdHN0cmFwLm1pbi5qcyI+PC9zY3JpcHQ+CiAgICA8c2NyaXB0IHNyYz0iaHR0cHM6Ly9jZG5qcy5jbG91ZGZsYXJlLmNvbS9hamF4L2xpYnMvTGVhZmxldC5hd2Vzb21lLW1hcmtlcnMvMi4wLjIvbGVhZmxldC5hd2Vzb21lLW1hcmtlcnMuanMiPjwvc2NyaXB0PgogICAgPGxpbmsgcmVsPSJzdHlsZXNoZWV0IiBocmVmPSJodHRwczovL2Nkbi5qc2RlbGl2ci5uZXQvbnBtL2xlYWZsZXRAMS40LjAvZGlzdC9sZWFmbGV0LmNzcyIvPgogICAgPGxpbmsgcmVsPSJzdHlsZXNoZWV0IiBocmVmPSJodHRwczovL21heGNkbi5ib290c3RyYXBjZG4uY29tL2Jvb3RzdHJhcC8zLjIuMC9jc3MvYm9vdHN0cmFwLm1pbi5jc3MiLz4KICAgIDxsaW5rIHJlbD0ic3R5bGVzaGVldCIgaHJlZj0iaHR0cHM6Ly9tYXhjZG4uYm9vdHN0cmFwY2RuLmNvbS9ib290c3RyYXAvMy4yLjAvY3NzL2Jvb3RzdHJhcC10aGVtZS5taW4uY3NzIi8+CiAgICA8bGluayByZWw9InN0eWxlc2hlZXQiIGhyZWY9Imh0dHBzOi8vbWF4Y2RuLmJvb3RzdHJhcGNkbi5jb20vZm9udC1hd2Vzb21lLzQuNi4zL2Nzcy9mb250LWF3ZXNvbWUubWluLmNzcyIvPgogICAgPGxpbmsgcmVsPSJzdHlsZXNoZWV0IiBocmVmPSJodHRwczovL2NkbmpzLmNsb3VkZmxhcmUuY29tL2FqYXgvbGlicy9MZWFmbGV0LmF3ZXNvbWUtbWFya2Vycy8yLjAuMi9sZWFmbGV0LmF3ZXNvbWUtbWFya2Vycy5jc3MiLz4KICAgIDxsaW5rIHJlbD0ic3R5bGVzaGVldCIgaHJlZj0iaHR0cHM6Ly9yYXdjZG4uZ2l0aGFjay5jb20vcHl0aG9uLXZpc3VhbGl6YXRpb24vZm9saXVtL21hc3Rlci9mb2xpdW0vdGVtcGxhdGVzL2xlYWZsZXQuYXdlc29tZS5yb3RhdGUuY3NzIi8+CiAgICA8c3R5bGU+aHRtbCwgYm9keSB7d2lkdGg6IDEwMCU7aGVpZ2h0OiAxMDAlO21hcmdpbjogMDtwYWRkaW5nOiAwO308L3N0eWxlPgogICAgPHN0eWxlPiNtYXAge3Bvc2l0aW9uOmFic29sdXRlO3RvcDowO2JvdHRvbTowO3JpZ2h0OjA7bGVmdDowO308L3N0eWxlPgogICAgCiAgICA8bWV0YSBuYW1lPSJ2aWV3cG9ydCIgY29udGVudD0id2lkdGg9ZGV2aWNlLXdpZHRoLAogICAgICAgIGluaXRpYWwtc2NhbGU9MS4wLCBtYXhpbXVtLXNjYWxlPTEuMCwgdXNlci1zY2FsYWJsZT1ubyIgLz4KICAgIDxzdHlsZT4jbWFwX2M3M2M2ZjFkMjNlZTRhY2RiZDllM2JmZmZkYWVlOGYxIHsKICAgICAgICBwb3NpdGlvbjogcmVsYXRpdmU7CiAgICAgICAgd2lkdGg6IDEwMC4wJTsKICAgICAgICBoZWlnaHQ6IDEwMC4wJTsKICAgICAgICBsZWZ0OiAwLjAlOwogICAgICAgIHRvcDogMC4wJTsKICAgICAgICB9CiAgICA8L3N0eWxlPgo8L2hlYWQ+Cjxib2R5PiAgICAKICAgIAogICAgPGRpdiBjbGFzcz0iZm9saXVtLW1hcCIgaWQ9Im1hcF9jNzNjNmYxZDIzZWU0YWNkYmQ5ZTNiZmZmZGFlZThmMSIgPjwvZGl2Pgo8L2JvZHk+CjxzY3JpcHQ+ICAgIAogICAgCiAgICAKICAgICAgICB2YXIgYm91bmRzID0gbnVsbDsKICAgIAoKICAgIHZhciBtYXBfYzczYzZmMWQyM2VlNGFjZGJkOWUzYmZmZmRhZWU4ZjEgPSBMLm1hcCgKICAgICAgICAnbWFwX2M3M2M2ZjFkMjNlZTRhY2RiZDllM2JmZmZkYWVlOGYxJywgewogICAgICAgIGNlbnRlcjogWy0yOC4xMzczOTI5NSwgMTUzLjQ4NTIyOTI4NTg2ODIzXSwKICAgICAgICB6b29tOiA4LAogICAgICAgIG1heEJvdW5kczogYm91bmRzLAogICAgICAgIGxheWVyczogW10sCiAgICAgICAgd29ybGRDb3B5SnVtcDogZmFsc2UsCiAgICAgICAgY3JzOiBMLkNSUy5FUFNHMzg1NywKICAgICAgICB6b29tQ29udHJvbDogdHJ1ZSwKICAgICAgICB9KTsKCgogICAgCiAgICB2YXIgdGlsZV9sYXllcl9hMDk0YjMwNmFhODQ0ODUwYTY4NDg2ODQzM2Q4NGE1MiA9IEwudGlsZUxheWVyKAogICAgICAgICdodHRwczovL3tzfS50aWxlLm9wZW5zdHJlZXRtYXAub3JnL3t6fS97eH0ve3l9LnBuZycsCiAgICAgICAgewogICAgICAgICJhdHRyaWJ1dGlvbiI6IG51bGwsCiAgICAgICAgImRldGVjdFJldGluYSI6IGZhbHNlLAogICAgICAgICJtYXhOYXRpdmVab29tIjogMTgsCiAgICAgICAgIm1heFpvb20iOiAxOCwKICAgICAgICAibWluWm9vbSI6IDAsCiAgICAgICAgIm5vV3JhcCI6IGZhbHNlLAogICAgICAgICJvcGFjaXR5IjogMSwKICAgICAgICAic3ViZG9tYWlucyI6ICJhYmMiLAogICAgICAgICJ0bXMiOiBmYWxzZQp9KS5hZGRUbyhtYXBfYzczYzZmMWQyM2VlNGFjZGJkOWUzYmZmZmRhZWU4ZjEpOwo8L3NjcmlwdD4= onload=\"this.contentDocument.open();this.contentDocument.write(atob(this.getAttribute('data-html')));this.contentDocument.close();\" allowfullscreen webkitallowfullscreen mozallowfullscreen></iframe></div></div>"
            ],
            "text/plain": [
              "<folium.folium.Map at 0x7f4d72afa6a0>"
            ]
          },
          "metadata": {
            "tags": []
          },
          "execution_count": 34
        }
      ]
    },
    {
      "cell_type": "code",
      "metadata": {
        "id": "Ig09lfJSOpO8",
        "colab_type": "code",
        "colab": {}
      },
      "source": [
        "import requests # library to handle requests\n",
        "from pandas.io.json import json_normalize # tranform JSON file into a pandas dataframe\n",
        "results = requests.get(url).json()"
      ],
      "execution_count": 0,
      "outputs": []
    },
    {
      "cell_type": "code",
      "metadata": {
        "id": "z-KTe-tHPIgA",
        "colab_type": "code",
        "colab": {}
      },
      "source": [
        "#creating a function that allows me to see all the different categories and the names of the different venues from the foursquare data\n",
        "def get_category_type(row):\n",
        "    try:\n",
        "        categories_list = row['categories']\n",
        "    except:\n",
        "        categories_list = row['venue.categories']\n",
        "        \n",
        "    if len(categories_list) == 0:\n",
        "        return None\n",
        "    else:\n",
        "        return categories_list[0]['name']"
      ],
      "execution_count": 0,
      "outputs": []
    },
    {
      "cell_type": "code",
      "metadata": {
        "id": "P8WaRGaflVUB",
        "colab_type": "code",
        "colab": {
          "base_uri": "https://localhost:8080/",
          "height": 382
        },
        "outputId": "67a3688a-f537-4f8d-d079-5427a0657dfc"
      },
      "source": [
        "#Finding the nearby venues from the results\n",
        "venues = results['response']['groups'][0]['items']\n",
        "    \n",
        "nearby_venues = json_normalize(venues) # flatten JSON\n",
        "\n",
        "# filter columns\n",
        "filtered_columns = ['venue.name', 'venue.categories', 'venue.location.lat', 'venue.location.lng']\n",
        "nearby_venues =nearby_venues.loc[:, filtered_columns]\n",
        "\n",
        "# filter the category for each row\n",
        "nearby_venues['venue.categories'] = nearby_venues.apply(get_category_type, axis=1)\n",
        "\n",
        "# clean columns\n",
        "nearby_venues.columns = [col.split(\".\")[-1] for col in nearby_venues.columns]\n",
        "#displaying the nearby venues to the sanctuary and other venues on the Gold Coast in Queensland, Australia\n",
        "nearby_venues"
      ],
      "execution_count": 37,
      "outputs": [
        {
          "output_type": "stream",
          "text": [
            "/usr/local/lib/python3.6/dist-packages/ipykernel_launcher.py:4: FutureWarning: pandas.io.json.json_normalize is deprecated, use pandas.json_normalize instead\n",
            "  after removing the cwd from sys.path.\n"
          ],
          "name": "stderr"
        },
        {
          "output_type": "execute_result",
          "data": {
            "text/html": [
              "<div>\n",
              "<style scoped>\n",
              "    .dataframe tbody tr th:only-of-type {\n",
              "        vertical-align: middle;\n",
              "    }\n",
              "\n",
              "    .dataframe tbody tr th {\n",
              "        vertical-align: top;\n",
              "    }\n",
              "\n",
              "    .dataframe thead th {\n",
              "        text-align: right;\n",
              "    }\n",
              "</style>\n",
              "<table border=\"1\" class=\"dataframe\">\n",
              "  <thead>\n",
              "    <tr style=\"text-align: right;\">\n",
              "      <th></th>\n",
              "      <th>name</th>\n",
              "      <th>categories</th>\n",
              "      <th>lat</th>\n",
              "      <th>lng</th>\n",
              "    </tr>\n",
              "  </thead>\n",
              "  <tbody>\n",
              "    <tr>\n",
              "      <th>0</th>\n",
              "      <td>Free Flight Bird Show</td>\n",
              "      <td>Zoo Exhibit</td>\n",
              "      <td>-28.139545</td>\n",
              "      <td>153.483614</td>\n",
              "    </tr>\n",
              "    <tr>\n",
              "      <th>1</th>\n",
              "      <td>Currumbin Wildlife Sanctuary</td>\n",
              "      <td>Zoo</td>\n",
              "      <td>-28.135910</td>\n",
              "      <td>153.488417</td>\n",
              "    </tr>\n",
              "    <tr>\n",
              "      <th>2</th>\n",
              "      <td>Honeyworld</td>\n",
              "      <td>Health Food Store</td>\n",
              "      <td>-28.135470</td>\n",
              "      <td>153.487520</td>\n",
              "    </tr>\n",
              "    <tr>\n",
              "      <th>3</th>\n",
              "      <td>Wild Burger</td>\n",
              "      <td>Burger Joint</td>\n",
              "      <td>-28.137708</td>\n",
              "      <td>153.485487</td>\n",
              "    </tr>\n",
              "    <tr>\n",
              "      <th>4</th>\n",
              "      <td>Koala Junction Kiosk</td>\n",
              "      <td>Snack Place</td>\n",
              "      <td>-28.137249</td>\n",
              "      <td>153.485227</td>\n",
              "    </tr>\n",
              "    <tr>\n",
              "      <th>5</th>\n",
              "      <td>australiana sheep shearing show</td>\n",
              "      <td>Park</td>\n",
              "      <td>-28.139574</td>\n",
              "      <td>153.483564</td>\n",
              "    </tr>\n",
              "    <tr>\n",
              "      <th>6</th>\n",
              "      <td>Binky Bill and Friends</td>\n",
              "      <td>National Park</td>\n",
              "      <td>-28.136017</td>\n",
              "      <td>153.488568</td>\n",
              "    </tr>\n",
              "    <tr>\n",
              "      <th>7</th>\n",
              "      <td>Currumbin Sanctuary Markets</td>\n",
              "      <td>Market</td>\n",
              "      <td>-28.135620</td>\n",
              "      <td>153.488759</td>\n",
              "    </tr>\n",
              "    <tr>\n",
              "      <th>8</th>\n",
              "      <td>Currumbin Wildlife Sanctuary Southbound Bus Stop</td>\n",
              "      <td>Bus Stop</td>\n",
              "      <td>-28.135300</td>\n",
              "      <td>153.489520</td>\n",
              "    </tr>\n",
              "  </tbody>\n",
              "</table>\n",
              "</div>"
            ],
            "text/plain": [
              "                                               name  ...         lng\n",
              "0                             Free Flight Bird Show  ...  153.483614\n",
              "1                      Currumbin Wildlife Sanctuary  ...  153.488417\n",
              "2                                        Honeyworld  ...  153.487520\n",
              "3                                       Wild Burger  ...  153.485487\n",
              "4                              Koala Junction Kiosk  ...  153.485227\n",
              "5                   australiana sheep shearing show  ...  153.483564\n",
              "6                            Binky Bill and Friends  ...  153.488568\n",
              "7                       Currumbin Sanctuary Markets  ...  153.488759\n",
              "8  Currumbin Wildlife Sanctuary Southbound Bus Stop  ...  153.489520\n",
              "\n",
              "[9 rows x 4 columns]"
            ]
          },
          "metadata": {
            "tags": []
          },
          "execution_count": 37
        }
      ]
    },
    {
      "cell_type": "markdown",
      "metadata": {
        "id": "UyVWy6bvo7p7",
        "colab_type": "text"
      },
      "source": [
        "As you can see, there are several parks and zoos in the area, demonstrating that there are high animal populations as well as many recovery organizations geered towards rehabilitating herbivorous marsupials (with kangaroos being the most popular). Therefore, the Foursquare data confirmed that the Gold Coast of Queenland in Australia is the best place for tourists and locals of Australia to go in order to have a greater chance of seeing herbivorous marsupials. "
      ]
    }
  ]
}