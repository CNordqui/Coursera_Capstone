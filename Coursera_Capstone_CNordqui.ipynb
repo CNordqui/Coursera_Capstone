{
  "nbformat": 4,
  "nbformat_minor": 0,
  "metadata": {
    "colab": {
      "name": "Coursera_Capstone CNordqui.ipynb",
      "provenance": [],
      "authorship_tag": "ABX9TyOzSiMjD8eXU04NervBNb8y",
      "include_colab_link": true
    },
    "kernelspec": {
      "name": "python3",
      "display_name": "Python 3"
    }
  },
  "cells": [
    {
      "cell_type": "markdown",
      "metadata": {
        "id": "view-in-github",
        "colab_type": "text"
      },
      "source": [
        "<a href=\"https://colab.research.google.com/github/CNordqui/Coursera_Capstone/blob/master/Coursera_Capstone_CNordqui.ipynb\" target=\"_parent\"><img src=\"https://colab.research.google.com/assets/colab-badge.svg\" alt=\"Open In Colab\"/></a>"
      ]
    },
    {
      "cell_type": "markdown",
      "metadata": {
        "id": "6z2BZ7srumtY",
        "colab_type": "text"
      },
      "source": [
        "**This notebook is for the Coursera Capstone Project for the Applied Data Science Specialization offered by IBM.** \n",
        "\n",
        "\n"
      ]
    },
    {
      "cell_type": "markdown",
      "metadata": {
        "id": "3Ftib24mu3U1",
        "colab_type": "text"
      },
      "source": [
        "**Introduction/Business Problem:**\n",
        "\n",
        "Due to habitat destruction in Australia from human activity and wildfires, many animals are restricted to sanctuaries and conservation territories. For individuals living in Australia and tourists, they may want to see the amazing creatures of Australia that have recently had diminishing populations. However, it is difficult to find these animals or even determine in which province they can be found. Therefore, the solution is generating a map where individuals can find Herbivorous Marsupials (undoubtedly the most popular subset of Australian animals which includes kangaroos and koalas) in the various provinces of Australia. Tourists and adventurers will be able to use this map to determine which province would be best to travel to in order to see these amazing wonders of Australia. In order to generate the map, I will be using Australian data which includes the regions from which the animals can be found as well as Foursquare data to show where conservancies are in the region that has the most Herbivorous Marsupials. "
      ]
    },
    {
      "cell_type": "markdown",
      "metadata": {
        "id": "_kGybY4qv71j",
        "colab_type": "text"
      },
      "source": [
        "**Data:**\n",
        "\n",
        "The Data for this project is from Foursquare as well as from the Atlas of Living Australia. The data was downloaded and then copy and pasted into an excel spreadsheet. I deleted the columns titled \"Species\" and \"Invasive\" because the species column had urls to learn more about the spcies and the invasive column only denoted one animal as being an invasive specie. Then, I deleted the column \"Scientific Name Authorship\" because this information just gave the credit to whoever first found the species and named it-data that won't be important in this project. I then uploaded the excel spreadsheet as seen below and cleaned it up so only rows that had all of the columns filled were displayed. I will be using this data to determine in which province on Australia someone can find the most Herbivorous Marsupials and will then be using Foursquare data to determine where most conservancies and sanctuaries in that province can be found. This data will solve the problems of where tourists and explorers should go in order to see these amazing animals. "
      ]
    },
    {
      "cell_type": "code",
      "metadata": {
        "id": "TVpg7TNmTNZB",
        "colab_type": "code",
        "outputId": "77ca8eb6-3296-4085-9683-a51d960028a9",
        "colab": {
          "base_uri": "https://localhost:8080/",
          "height": 289
        }
      },
      "source": [
        "import pandas as pd\n",
        "import numpy as np\n",
        "#I copied the data from Wikipedia and then pasted it into an excel spreadsheet. And read it into the pandas dataframe here. \n",
        "df = pd.read_excel('Herbivorous Marsupials.xlsx')\n",
        "#Cleaning up the data\n",
        "df.dropna(subset=['Conservation'], inplace=True)\n",
        "df.head()"
      ],
      "execution_count": 2,
      "outputs": [
        {
          "output_type": "execute_result",
          "data": {
            "text/html": [
              "<div>\n",
              "<style scoped>\n",
              "    .dataframe tbody tr th:only-of-type {\n",
              "        vertical-align: middle;\n",
              "    }\n",
              "\n",
              "    .dataframe tbody tr th {\n",
              "        vertical-align: top;\n",
              "    }\n",
              "\n",
              "    .dataframe thead th {\n",
              "        text-align: right;\n",
              "    }\n",
              "</style>\n",
              "<table border=\"1\" class=\"dataframe\">\n",
              "  <thead>\n",
              "    <tr style=\"text-align: right;\">\n",
              "      <th></th>\n",
              "      <th>Species Name</th>\n",
              "      <th>Taxon Rank</th>\n",
              "      <th>Kingdom</th>\n",
              "      <th>Phylum</th>\n",
              "      <th>Class</th>\n",
              "      <th>Order</th>\n",
              "      <th>Family</th>\n",
              "      <th>Genus</th>\n",
              "      <th>Vernacular Name</th>\n",
              "      <th>Conservation</th>\n",
              "    </tr>\n",
              "  </thead>\n",
              "  <tbody>\n",
              "    <tr>\n",
              "      <th>0</th>\n",
              "      <td>Phascolarctos cinereus</td>\n",
              "      <td>species</td>\n",
              "      <td>ANIMALIA</td>\n",
              "      <td>CHORDATA</td>\n",
              "      <td>MAMMALIA</td>\n",
              "      <td>DIPROTODONTIA</td>\n",
              "      <td>PHASCOLARCTIDAE</td>\n",
              "      <td>Phascolarctos</td>\n",
              "      <td>Koala</td>\n",
              "      <td>Queensland</td>\n",
              "    </tr>\n",
              "    <tr>\n",
              "      <th>1</th>\n",
              "      <td>Trichosurus vulpecula</td>\n",
              "      <td>species</td>\n",
              "      <td>ANIMALIA</td>\n",
              "      <td>CHORDATA</td>\n",
              "      <td>MAMMALIA</td>\n",
              "      <td>DIPROTODONTIA</td>\n",
              "      <td>PHALANGERIDAE</td>\n",
              "      <td>Trichosurus</td>\n",
              "      <td>Common Brushtail Possum</td>\n",
              "      <td>South Australia, Queensland, Northern Territory</td>\n",
              "    </tr>\n",
              "    <tr>\n",
              "      <th>2</th>\n",
              "      <td>Petaurus norfolcensis</td>\n",
              "      <td>species</td>\n",
              "      <td>ANIMALIA</td>\n",
              "      <td>CHORDATA</td>\n",
              "      <td>MAMMALIA</td>\n",
              "      <td>DIPROTODONTIA</td>\n",
              "      <td>PETAURIDAE</td>\n",
              "      <td>Petaurus</td>\n",
              "      <td>Squirrel Glider</td>\n",
              "      <td>South Australia, Queensland, Victoria</td>\n",
              "    </tr>\n",
              "    <tr>\n",
              "      <th>3</th>\n",
              "      <td>Pseudocheirus peregrinus</td>\n",
              "      <td>species</td>\n",
              "      <td>ANIMALIA</td>\n",
              "      <td>CHORDATA</td>\n",
              "      <td>MAMMALIA</td>\n",
              "      <td>DIPROTODONTIA</td>\n",
              "      <td>PSEUDOCHEIRIDAE</td>\n",
              "      <td>Pseudocheirus</td>\n",
              "      <td>Common Ringtail Possum</td>\n",
              "      <td>Queensland</td>\n",
              "    </tr>\n",
              "    <tr>\n",
              "      <th>4</th>\n",
              "      <td>Wallabia bicolor</td>\n",
              "      <td>species</td>\n",
              "      <td>ANIMALIA</td>\n",
              "      <td>CHORDATA</td>\n",
              "      <td>MAMMALIA</td>\n",
              "      <td>DIPROTODONTIA</td>\n",
              "      <td>MACROPODIDAE</td>\n",
              "      <td>Wallabia</td>\n",
              "      <td>Swamp Wallaby</td>\n",
              "      <td>South Australia, Queensland</td>\n",
              "    </tr>\n",
              "  </tbody>\n",
              "</table>\n",
              "</div>"
            ],
            "text/plain": [
              "               Species Name  ...                                      Conservation\n",
              "0    Phascolarctos cinereus  ...                                        Queensland\n",
              "1     Trichosurus vulpecula  ...  South Australia, Queensland, Northern Territory \n",
              "2     Petaurus norfolcensis  ...             South Australia, Queensland, Victoria\n",
              "3  Pseudocheirus peregrinus  ...                                       Queensland \n",
              "4          Wallabia bicolor  ...                       South Australia, Queensland\n",
              "\n",
              "[5 rows x 10 columns]"
            ]
          },
          "metadata": {
            "tags": []
          },
          "execution_count": 2
        }
      ]
    },
    {
      "cell_type": "markdown",
      "metadata": {
        "id": "r0LO6YbgzmW1",
        "colab_type": "text"
      },
      "source": [
        "In order to determine the province in Australia with the largest number of these Herbivorous Marsupials, I need to look at the column titled 'Conservation' that lists the provinces in which the marsupials are considered to be under conservation. By tallying up all the numbers, there are 16 considered conserved in Queensland, 2 in Victoria, 8 in South Australia, 3 in Northern Territoriy, and 2 in New South Wales. Therefore, the province that has the greatest number of Herbivorous Marsupials in Queensland. Therefore, we will be using Foursquare data to look up conservancies and sanctuaries for these animals in Queensland. See dataframe showing the locations of these animals below. "
      ]
    },
    {
      "cell_type": "code",
      "metadata": {
        "id": "ywCahcz1TjtA",
        "colab_type": "code",
        "colab": {
          "base_uri": "https://localhost:8080/",
          "height": 323
        },
        "outputId": "b297eb2a-970f-4f3f-de0f-3110982bd643"
      },
      "source": [
        "df['Conservation']"
      ],
      "execution_count": 3,
      "outputs": [
        {
          "output_type": "execute_result",
          "data": {
            "text/plain": [
              "0                                           Queensland\n",
              "1     South Australia, Queensland, Northern Territory \n",
              "2                South Australia, Queensland, Victoria\n",
              "3                                          Queensland \n",
              "4                          South Australia, Queensland\n",
              "5                         South Australia, Queensland \n",
              "6                         South Australia, Queensland \n",
              "7      South Australia, Queensland, Northern Territory\n",
              "8                                           Queensland\n",
              "9                         South Australia, Queensland \n",
              "11                                         Queensland \n",
              "12                                         Queensland \n",
              "13              Queensland, Victoria, New South Wales \n",
              "14                        Queensland, New South Wales \n",
              "15                                         Queensland \n",
              "17                                    South Australia \n",
              "18                     Queensland, Northern Territory \n",
              "Name: Conservation, dtype: object"
            ]
          },
          "metadata": {
            "tags": []
          },
          "execution_count": 3
        }
      ]
    },
    {
      "cell_type": "markdown",
      "metadata": {
        "id": "oGW1DoXDpX77",
        "colab_type": "text"
      },
      "source": [
        "I did some research in the Queensland area since the region is much too big to do a Foursquare geodata analysis on, and discovered that the Gold Coast is home to the greatest number of zoos, wildlife rehabilitation centers, and wildlife sanctuaries, giving the best chance of the presence of herbivorous marsupials. Therefore, moving forward, I will be analyzing the region of the Gold Coast to prove with the Foursquare data that this region has the greatest herbivorous marsupial populations. I used Google Maps and data from Google and discovered there were many parks, national parks, and animal sanctuaries in the Gold Coast area. Therefore, I found three locations that seemed to be in a hot spot of sorts for these types of areas (Currumbin Wildlife Sanctuary, Tamborine National Park, and Springbrook National Park). Around each of the three areas I used markers to show where the nearest venues were, and displayed the dataframes so it was clear that there were many parks and natural areas where large herbivorous marsupial populations would be found. "
      ]
    },
    {
      "cell_type": "markdown",
      "metadata": {
        "id": "I75IP_V2xpga",
        "colab_type": "text"
      },
      "source": [
        "Below is the first analysis of the currumbin Wildlife Sanctuary data displayed after a map of the overall view of the Gold Coast in Queensland. "
      ]
    },
    {
      "cell_type": "code",
      "metadata": {
        "id": "V_qMuPPezjPZ",
        "colab_type": "code",
        "colab": {
          "base_uri": "https://localhost:8080/",
          "height": 1000
        },
        "outputId": "ab6c5f02-af10-417b-86f4-1188032f633d"
      },
      "source": [
        "CLIENT_ID = 'UJ0BSIUED1BG3O5GYR2ZH1JPI453E2JZYLFAGTEVWVGDHQKD' # your Foursquare ID\n",
        "CLIENT_SECRET = 'IVZFIFBPEPDO0JHBX2K1NAZ2IX4ZFUUWNCS5OQSRQKLSA0AD' # your Foursquare Secret\n",
        "VERSION = '20180605' # Foursquare API version\n",
        "LIMIT=100\n",
        "radius=500\n",
        "# create map of Gold Coast, Australia using latitude and longitude values and by inputting an address that helps to make the data more specific \n",
        "#it is the address of Currumbin Wildlife Sanctuary\n",
        "!pip install geopandas\n",
        "!pip install geopy\n",
        "from geopy.geocoders import Nominatim\n",
        "address = '28 Tomewin St, Currumbin QLD 4223, Australia'\n",
        "geolocator = Nominatim(user_agent=\"ny_explorer\")\n",
        "location = geolocator.geocode(address)\n",
        "\n",
        "#creating and displaying the map of Gold Coast, Australia\n",
        "import folium\n",
        "latitude=location.latitude\n",
        "longitude=location.longitude\n",
        "map_Queensland = folium.Map(location= [latitude, longitude], zoom_start=8)\n",
        "#get the url from foursquare in order to use foursquare to analyze the venues near this location\n",
        "url = 'https://api.foursquare.com/v2/venues/explore?&client_id={}&client_secret={}&v={}&ll={},{}&radius={}&limit={}'.format(\n",
        "    CLIENT_ID, \n",
        "    CLIENT_SECRET, \n",
        "    VERSION, \n",
        "    latitude, \n",
        "    longitude, \n",
        "    radius, \n",
        "    LIMIT)\n",
        "map_Queensland"
      ],
      "execution_count": 4,
      "outputs": [
        {
          "output_type": "stream",
          "text": [
            "Collecting geopandas\n",
            "\u001b[?25l  Downloading https://files.pythonhosted.org/packages/83/c5/3cf9cdc39a6f2552922f79915f36b45a95b71fd343cfc51170a5b6ddb6e8/geopandas-0.7.0-py2.py3-none-any.whl (928kB)\n",
            "\u001b[K     |████████████████████████████████| 931kB 2.8MB/s \n",
            "\u001b[?25hRequirement already satisfied: pandas>=0.23.0 in /usr/local/lib/python3.6/dist-packages (from geopandas) (1.0.3)\n",
            "Collecting pyproj>=2.2.0\n",
            "\u001b[?25l  Downloading https://files.pythonhosted.org/packages/e5/c3/071e080230ac4b6c64f1a2e2f9161c9737a2bc7b683d2c90b024825000c0/pyproj-2.6.1.post1-cp36-cp36m-manylinux2010_x86_64.whl (10.9MB)\n",
            "\u001b[K     |████████████████████████████████| 10.9MB 14.6MB/s \n",
            "\u001b[?25hCollecting fiona\n",
            "\u001b[?25l  Downloading https://files.pythonhosted.org/packages/ec/20/4e63bc5c6e62df889297b382c3ccd4a7a488b00946aaaf81a118158c6f09/Fiona-1.8.13.post1-cp36-cp36m-manylinux1_x86_64.whl (14.7MB)\n",
            "\u001b[K     |████████████████████████████████| 14.7MB 305kB/s \n",
            "\u001b[?25hRequirement already satisfied: shapely in /usr/local/lib/python3.6/dist-packages (from geopandas) (1.7.0)\n",
            "Requirement already satisfied: pytz>=2017.2 in /usr/local/lib/python3.6/dist-packages (from pandas>=0.23.0->geopandas) (2018.9)\n",
            "Requirement already satisfied: python-dateutil>=2.6.1 in /usr/local/lib/python3.6/dist-packages (from pandas>=0.23.0->geopandas) (2.8.1)\n",
            "Requirement already satisfied: numpy>=1.13.3 in /usr/local/lib/python3.6/dist-packages (from pandas>=0.23.0->geopandas) (1.18.4)\n",
            "Requirement already satisfied: six>=1.7 in /usr/local/lib/python3.6/dist-packages (from fiona->geopandas) (1.12.0)\n",
            "Collecting cligj>=0.5\n",
            "  Downloading https://files.pythonhosted.org/packages/e4/be/30a58b4b0733850280d01f8bd132591b4668ed5c7046761098d665ac2174/cligj-0.5.0-py3-none-any.whl\n",
            "Requirement already satisfied: click<8,>=4.0 in /usr/local/lib/python3.6/dist-packages (from fiona->geopandas) (7.1.2)\n",
            "Requirement already satisfied: attrs>=17 in /usr/local/lib/python3.6/dist-packages (from fiona->geopandas) (19.3.0)\n",
            "Collecting click-plugins>=1.0\n",
            "  Downloading https://files.pythonhosted.org/packages/e9/da/824b92d9942f4e472702488857914bdd50f73021efea15b4cad9aca8ecef/click_plugins-1.1.1-py2.py3-none-any.whl\n",
            "Collecting munch\n",
            "  Downloading https://files.pythonhosted.org/packages/cc/ab/85d8da5c9a45e072301beb37ad7f833cd344e04c817d97e0cc75681d248f/munch-2.5.0-py2.py3-none-any.whl\n",
            "Installing collected packages: pyproj, cligj, click-plugins, munch, fiona, geopandas\n",
            "Successfully installed click-plugins-1.1.1 cligj-0.5.0 fiona-1.8.13.post1 geopandas-0.7.0 munch-2.5.0 pyproj-2.6.1.post1\n",
            "Requirement already satisfied: geopy in /usr/local/lib/python3.6/dist-packages (1.17.0)\n",
            "Requirement already satisfied: geographiclib<2,>=1.49 in /usr/local/lib/python3.6/dist-packages (from geopy) (1.50)\n"
          ],
          "name": "stdout"
        },
        {
          "output_type": "execute_result",
          "data": {
            "text/html": [
              "<div style=\"width:100%;\"><div style=\"position:relative;width:100%;height:0;padding-bottom:60%;\"><span style=\"color:#565656\">Make this Notebook Trusted to load map: File -> Trust Notebook</span><iframe src=\"about:blank\" style=\"position:absolute;width:100%;height:100%;left:0;top:0;border:none !important;\" data-html=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 onload=\"this.contentDocument.open();this.contentDocument.write(atob(this.getAttribute('data-html')));this.contentDocument.close();\" allowfullscreen webkitallowfullscreen mozallowfullscreen></iframe></div></div>"
            ],
            "text/plain": [
              "<folium.folium.Map at 0x7fb84ee28fd0>"
            ]
          },
          "metadata": {
            "tags": []
          },
          "execution_count": 4
        }
      ]
    },
    {
      "cell_type": "code",
      "metadata": {
        "id": "Ig09lfJSOpO8",
        "colab_type": "code",
        "colab": {}
      },
      "source": [
        "import requests # library to handle requests\n",
        "from pandas.io.json import json_normalize # tranform JSON file into a pandas dataframe\n",
        "results = requests.get(url).json()"
      ],
      "execution_count": 0,
      "outputs": []
    },
    {
      "cell_type": "code",
      "metadata": {
        "id": "z-KTe-tHPIgA",
        "colab_type": "code",
        "colab": {}
      },
      "source": [
        "#creating a function that allows me to see all the different categories and the names of the different venues from the foursquare data\n",
        "def get_category_type(row):\n",
        "    try:\n",
        "        categories_list = row['categories']\n",
        "    except:\n",
        "        categories_list = row['venue.categories']\n",
        "        \n",
        "    if len(categories_list) == 0:\n",
        "        return None\n",
        "    else:\n",
        "        return categories_list[0]['name']"
      ],
      "execution_count": 0,
      "outputs": []
    },
    {
      "cell_type": "code",
      "metadata": {
        "id": "P8WaRGaflVUB",
        "colab_type": "code",
        "colab": {
          "base_uri": "https://localhost:8080/",
          "height": 382
        },
        "outputId": "5118d766-f625-46a6-e0f5-60a602040f99"
      },
      "source": [
        "#Finding the nearby venues from the results\n",
        "venues = results['response']['groups'][0]['items']\n",
        "    \n",
        "nearby_venues = json_normalize(venues) # flatten JSON\n",
        "\n",
        "# filter columns\n",
        "filtered_columns = ['venue.name', 'venue.categories', 'venue.location.lat', 'venue.location.lng']\n",
        "nearby_venues =nearby_venues.loc[:, filtered_columns]\n",
        "\n",
        "# filter the category for each row\n",
        "nearby_venues['venue.categories'] = nearby_venues.apply(get_category_type, axis=1)\n",
        "\n",
        "# clean columns\n",
        "nearby_venues.columns = [col.split(\".\")[-1] for col in nearby_venues.columns]\n",
        "#displaying the nearby venues to the sanctuary and other venues on the Gold Coast in Queensland, Australia\n",
        "nearby_venues"
      ],
      "execution_count": 7,
      "outputs": [
        {
          "output_type": "stream",
          "text": [
            "/usr/local/lib/python3.6/dist-packages/ipykernel_launcher.py:4: FutureWarning: pandas.io.json.json_normalize is deprecated, use pandas.json_normalize instead\n",
            "  after removing the cwd from sys.path.\n"
          ],
          "name": "stderr"
        },
        {
          "output_type": "execute_result",
          "data": {
            "text/html": [
              "<div>\n",
              "<style scoped>\n",
              "    .dataframe tbody tr th:only-of-type {\n",
              "        vertical-align: middle;\n",
              "    }\n",
              "\n",
              "    .dataframe tbody tr th {\n",
              "        vertical-align: top;\n",
              "    }\n",
              "\n",
              "    .dataframe thead th {\n",
              "        text-align: right;\n",
              "    }\n",
              "</style>\n",
              "<table border=\"1\" class=\"dataframe\">\n",
              "  <thead>\n",
              "    <tr style=\"text-align: right;\">\n",
              "      <th></th>\n",
              "      <th>name</th>\n",
              "      <th>categories</th>\n",
              "      <th>lat</th>\n",
              "      <th>lng</th>\n",
              "    </tr>\n",
              "  </thead>\n",
              "  <tbody>\n",
              "    <tr>\n",
              "      <th>0</th>\n",
              "      <td>Free Flight Bird Show</td>\n",
              "      <td>Zoo Exhibit</td>\n",
              "      <td>-28.139545</td>\n",
              "      <td>153.483614</td>\n",
              "    </tr>\n",
              "    <tr>\n",
              "      <th>1</th>\n",
              "      <td>Currumbin Wildlife Sanctuary</td>\n",
              "      <td>Zoo</td>\n",
              "      <td>-28.135910</td>\n",
              "      <td>153.488417</td>\n",
              "    </tr>\n",
              "    <tr>\n",
              "      <th>2</th>\n",
              "      <td>Honeyworld</td>\n",
              "      <td>Health Food Store</td>\n",
              "      <td>-28.135470</td>\n",
              "      <td>153.487520</td>\n",
              "    </tr>\n",
              "    <tr>\n",
              "      <th>3</th>\n",
              "      <td>Wild Burger</td>\n",
              "      <td>Burger Joint</td>\n",
              "      <td>-28.137708</td>\n",
              "      <td>153.485487</td>\n",
              "    </tr>\n",
              "    <tr>\n",
              "      <th>4</th>\n",
              "      <td>Koala Junction Kiosk</td>\n",
              "      <td>Snack Place</td>\n",
              "      <td>-28.137249</td>\n",
              "      <td>153.485227</td>\n",
              "    </tr>\n",
              "    <tr>\n",
              "      <th>5</th>\n",
              "      <td>australiana sheep shearing show</td>\n",
              "      <td>Park</td>\n",
              "      <td>-28.139574</td>\n",
              "      <td>153.483564</td>\n",
              "    </tr>\n",
              "    <tr>\n",
              "      <th>6</th>\n",
              "      <td>Binky Bill and Friends</td>\n",
              "      <td>National Park</td>\n",
              "      <td>-28.136017</td>\n",
              "      <td>153.488568</td>\n",
              "    </tr>\n",
              "    <tr>\n",
              "      <th>7</th>\n",
              "      <td>Currumbin Sanctuary Markets</td>\n",
              "      <td>Market</td>\n",
              "      <td>-28.135620</td>\n",
              "      <td>153.488759</td>\n",
              "    </tr>\n",
              "    <tr>\n",
              "      <th>8</th>\n",
              "      <td>Currumbin Wildlife Sanctuary Southbound Bus Stop</td>\n",
              "      <td>Bus Stop</td>\n",
              "      <td>-28.135300</td>\n",
              "      <td>153.489520</td>\n",
              "    </tr>\n",
              "  </tbody>\n",
              "</table>\n",
              "</div>"
            ],
            "text/plain": [
              "                                               name  ...         lng\n",
              "0                             Free Flight Bird Show  ...  153.483614\n",
              "1                      Currumbin Wildlife Sanctuary  ...  153.488417\n",
              "2                                        Honeyworld  ...  153.487520\n",
              "3                                       Wild Burger  ...  153.485487\n",
              "4                              Koala Junction Kiosk  ...  153.485227\n",
              "5                   australiana sheep shearing show  ...  153.483564\n",
              "6                            Binky Bill and Friends  ...  153.488568\n",
              "7                       Currumbin Sanctuary Markets  ...  153.488759\n",
              "8  Currumbin Wildlife Sanctuary Southbound Bus Stop  ...  153.489520\n",
              "\n",
              "[9 rows x 4 columns]"
            ]
          },
          "metadata": {
            "tags": []
          },
          "execution_count": 7
        }
      ]
    },
    {
      "cell_type": "markdown",
      "metadata": {
        "id": "UyVWy6bvo7p7",
        "colab_type": "text"
      },
      "source": [
        "As you can see, there are several parks and zoos in the area, demonstrating that there are high animal populations as well as many recovery organizations geered towards rehabilitating herbivorous marsupials (with kangaroos being the most popular). Therefore, the Foursquare data confirmed that the Gold Coast of Queenland in Australia is the best place for tourists and locals of Australia to go in order to have a greater chance of seeing herbivorous marsupials. "
      ]
    },
    {
      "cell_type": "code",
      "metadata": {
        "id": "5yARUScBsIgz",
        "colab_type": "code",
        "colab": {
          "base_uri": "https://localhost:8080/",
          "height": 777
        },
        "outputId": "cf958c35-3513-4804-993d-d24a733848cb"
      },
      "source": [
        "# add markers to map\n",
        "map_Currubim = folium.Map(location= [latitude, longitude], zoom_start=15)\n",
        "for lat, lng, label in zip(nearby_venues['lat'], nearby_venues['lng'], nearby_venues['name']):\n",
        "    label = folium.Popup(label, parse_html=True)\n",
        "    folium.CircleMarker(\n",
        "        [lat, lng],\n",
        "        radius=5,\n",
        "        popup=label,\n",
        "        color='yellow',\n",
        "        fill=True,\n",
        "        fill_color='#3186cc',\n",
        "        fill_opacity=0.7,\n",
        "        parse_html=False).add_to(map_Currubim)  \n",
        "    \n",
        "map_Currubim"
      ],
      "execution_count": 8,
      "outputs": [
        {
          "output_type": "execute_result",
          "data": {
            "text/html": [
              "<div style=\"width:100%;\"><div style=\"position:relative;width:100%;height:0;padding-bottom:60%;\"><span style=\"color:#565656\">Make this Notebook Trusted to load map: File -> Trust Notebook</span><iframe src=\"about:blank\" style=\"position:absolute;width:100%;height:100%;left:0;top:0;border:none !important;\" data-html=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 onload=\"this.contentDocument.open();this.contentDocument.write(atob(this.getAttribute('data-html')));this.contentDocument.close();\" allowfullscreen webkitallowfullscreen mozallowfullscreen></iframe></div></div>"
            ],
            "text/plain": [
              "<folium.folium.Map at 0x7fb84df5aa58>"
            ]
          },
          "metadata": {
            "tags": []
          },
          "execution_count": 8
        }
      ]
    },
    {
      "cell_type": "markdown",
      "metadata": {
        "id": "59m0emO5x4pK",
        "colab_type": "text"
      },
      "source": [
        "Above is the map to see where all the animal sactuaries, zoos, etc. can be found around the currumbin Wildlife Sanctuary area. These venues are in the very heart of the Gold Coast, and therefore, represent the region at large well. Below is the analysis from Tamborine National Park, a bit NW of the Currumbin Wildlife Sanctuary. "
      ]
    },
    {
      "cell_type": "code",
      "metadata": {
        "id": "Rxreg5MStCeK",
        "colab_type": "code",
        "colab": {
          "base_uri": "https://localhost:8080/",
          "height": 241
        },
        "outputId": "846392c7-27c2-48ae-f44a-b42f943c1170"
      },
      "source": [
        "from geopy.geocoders import Nominatim\n",
        "address = 'Cedar Creek QLD 4207, Australia'\n",
        "geolocator = Nominatim(user_agent=\"ny_explorer\")\n",
        "location = geolocator.geocode(address)\n",
        "\n",
        "#creating and displaying the map of Gold Coast, Australia\n",
        "import folium\n",
        "latitude=location.latitude\n",
        "longitude=location.longitude\n",
        "map_park = folium.Map(location= [latitude, longitude], zoom_start=12)\n",
        "radius=2000\n",
        "#get the url from foursquare in order to use foursquare to analyze the venues near this location\n",
        "url = 'https://api.foursquare.com/v2/venues/explore?&client_id={}&client_secret={}&v={}&ll={},{}&radius={}&limit={}'.format(\n",
        "    CLIENT_ID, \n",
        "    CLIENT_SECRET, \n",
        "    VERSION, \n",
        "    latitude, \n",
        "    longitude, \n",
        "    radius, \n",
        "    LIMIT)\n",
        "map_park\n",
        "\n",
        "import requests # library to handle requests\n",
        "from pandas.io.json import json_normalize # tranform JSON file into a pandas dataframe\n",
        "results = requests.get(url).json()\n",
        "#Finding the nearby venues from the results\n",
        "venues = results['response']['groups'][0]['items']\n",
        "    \n",
        "nearby_venues = json_normalize(venues) # flatten JSON\n",
        "\n",
        "# filter columns\n",
        "filtered_columns = ['venue.name', 'venue.categories', 'venue.location.lat', 'venue.location.lng']\n",
        "nearby_venues =nearby_venues.loc[:, filtered_columns]\n",
        "\n",
        "# filter the category for each row\n",
        "nearby_venues['venue.categories'] = nearby_venues.apply(get_category_type, axis=1)\n",
        "\n",
        "# clean columns\n",
        "nearby_venues.columns = [col.split(\".\")[-1] for col in nearby_venues.columns]\n",
        "#displaying the nearby venues to the sanctuary and other venues on the Gold Coast in Queensland, Australia\n",
        "nearby_venues\n"
      ],
      "execution_count": 9,
      "outputs": [
        {
          "output_type": "stream",
          "text": [
            "/usr/local/lib/python3.6/dist-packages/ipykernel_launcher.py:29: FutureWarning: pandas.io.json.json_normalize is deprecated, use pandas.json_normalize instead\n"
          ],
          "name": "stderr"
        },
        {
          "output_type": "execute_result",
          "data": {
            "text/html": [
              "<div>\n",
              "<style scoped>\n",
              "    .dataframe tbody tr th:only-of-type {\n",
              "        vertical-align: middle;\n",
              "    }\n",
              "\n",
              "    .dataframe tbody tr th {\n",
              "        vertical-align: top;\n",
              "    }\n",
              "\n",
              "    .dataframe thead th {\n",
              "        text-align: right;\n",
              "    }\n",
              "</style>\n",
              "<table border=\"1\" class=\"dataframe\">\n",
              "  <thead>\n",
              "    <tr style=\"text-align: right;\">\n",
              "      <th></th>\n",
              "      <th>name</th>\n",
              "      <th>categories</th>\n",
              "      <th>lat</th>\n",
              "      <th>lng</th>\n",
              "    </tr>\n",
              "  </thead>\n",
              "  <tbody>\n",
              "    <tr>\n",
              "      <th>0</th>\n",
              "      <td>Cedar creek park lands</td>\n",
              "      <td>Park</td>\n",
              "      <td>-27.846997</td>\n",
              "      <td>153.191916</td>\n",
              "    </tr>\n",
              "    <tr>\n",
              "      <th>1</th>\n",
              "      <td>Pho Ever Taste</td>\n",
              "      <td>Vietnamese Restaurant</td>\n",
              "      <td>-27.844237</td>\n",
              "      <td>153.180099</td>\n",
              "    </tr>\n",
              "    <tr>\n",
              "      <th>2</th>\n",
              "      <td>Kym Simons Earthmover</td>\n",
              "      <td>Construction &amp; Landscaping</td>\n",
              "      <td>-27.845695</td>\n",
              "      <td>153.173950</td>\n",
              "    </tr>\n",
              "    <tr>\n",
              "      <th>3</th>\n",
              "      <td>Cedar Creek Park</td>\n",
              "      <td>Park</td>\n",
              "      <td>-27.838936</td>\n",
              "      <td>153.173548</td>\n",
              "    </tr>\n",
              "    <tr>\n",
              "      <th>4</th>\n",
              "      <td>KWR Roofing</td>\n",
              "      <td>Business Service</td>\n",
              "      <td>-27.829133</td>\n",
              "      <td>153.185838</td>\n",
              "    </tr>\n",
              "  </tbody>\n",
              "</table>\n",
              "</div>"
            ],
            "text/plain": [
              "                     name                  categories        lat         lng\n",
              "0  Cedar creek park lands                        Park -27.846997  153.191916\n",
              "1          Pho Ever Taste       Vietnamese Restaurant -27.844237  153.180099\n",
              "2   Kym Simons Earthmover  Construction & Landscaping -27.845695  153.173950\n",
              "3        Cedar Creek Park                        Park -27.838936  153.173548\n",
              "4             KWR Roofing            Business Service -27.829133  153.185838"
            ]
          },
          "metadata": {
            "tags": []
          },
          "execution_count": 9
        }
      ]
    },
    {
      "cell_type": "markdown",
      "metadata": {
        "id": "IK6LgBM5yQuG",
        "colab_type": "text"
      },
      "source": [
        "The data shows that nearby venues include a few parks as well as venues that are not natural in essence. This is because I increased the radius to 2000m instead of 500m because the national park that served as the address was so large (and therefore, has high herbivorous marsupial populations due to its size and location). "
      ]
    },
    {
      "cell_type": "code",
      "metadata": {
        "id": "CsNtekFfu0oD",
        "colab_type": "code",
        "colab": {
          "base_uri": "https://localhost:8080/",
          "height": 777
        },
        "outputId": "81d7ea32-392f-4efa-869f-0aace0af4b58"
      },
      "source": [
        "# add markers to map\n",
        "map_park = folium.Map(location= [latitude, longitude], zoom_start=15)\n",
        "for lat, lng, label in zip(nearby_venues['lat'], nearby_venues['lng'], nearby_venues['name']):\n",
        "    label = folium.Popup(label, parse_html=True)\n",
        "    folium.CircleMarker(\n",
        "        [lat, lng],\n",
        "        radius=5,\n",
        "        popup=label,\n",
        "        color='pink',\n",
        "        fill=True,\n",
        "        fill_color='#3186cc',\n",
        "        fill_opacity=0.7,\n",
        "        parse_html=False).add_to(map_park)  \n",
        "    \n",
        "map_park"
      ],
      "execution_count": 10,
      "outputs": [
        {
          "output_type": "execute_result",
          "data": {
            "text/html": [
              "<div style=\"width:100%;\"><div style=\"position:relative;width:100%;height:0;padding-bottom:60%;\"><span style=\"color:#565656\">Make this Notebook Trusted to load map: File -> Trust Notebook</span><iframe src=\"about:blank\" style=\"position:absolute;width:100%;height:100%;left:0;top:0;border:none !important;\" data-html=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 onload=\"this.contentDocument.open();this.contentDocument.write(atob(this.getAttribute('data-html')));this.contentDocument.close();\" allowfullscreen webkitallowfullscreen mozallowfullscreen></iframe></div></div>"
            ],
            "text/plain": [
              "<folium.folium.Map at 0x7fb84df1ecf8>"
            ]
          },
          "metadata": {
            "tags": []
          },
          "execution_count": 10
        }
      ]
    },
    {
      "cell_type": "markdown",
      "metadata": {
        "id": "CB-_7Oo5ylns",
        "colab_type": "text"
      },
      "source": [
        "Above is the geospatial data of Tamborine National Park and shows the vastness of the area, as well as how close the rest of society is to the national park. I'm sure native animal populaitons and humans come into contact more often that what is desirous. Below is the data analysis from Springbrook National Park, more South to Tamborine National Park. "
      ]
    },
    {
      "cell_type": "code",
      "metadata": {
        "id": "DFsxebs1vEC1",
        "colab_type": "code",
        "colab": {
          "base_uri": "https://localhost:8080/",
          "height": 241
        },
        "outputId": "0fdfab05-15a4-41da-d50d-8ed78d90b3ae"
      },
      "source": [
        "from geopy.geocoders import Nominatim\n",
        "address = 'Old School Rd, Springbrook QLD 4213, Australia'\n",
        "geolocator = Nominatim(user_agent=\"ny_explorer\")\n",
        "location = geolocator.geocode(address)\n",
        "\n",
        "#creating and displaying the map of Gold Coast, Australia\n",
        "import folium\n",
        "latitude=location.latitude\n",
        "longitude=location.longitude\n",
        "map_trail = folium.Map(location= [latitude, longitude], zoom_start=12)\n",
        "radius=1500\n",
        "#get the url from foursquare in order to use foursquare to analyze the venues near this location\n",
        "url = 'https://api.foursquare.com/v2/venues/explore?&client_id={}&client_secret={}&v={}&ll={},{}&radius={}&limit={}'.format(\n",
        "    CLIENT_ID, \n",
        "    CLIENT_SECRET, \n",
        "    VERSION, \n",
        "    latitude, \n",
        "    longitude, \n",
        "    radius, \n",
        "    LIMIT)\n",
        "map_park\n",
        "\n",
        "import requests # library to handle requests\n",
        "from pandas.io.json import json_normalize # tranform JSON file into a pandas dataframe\n",
        "results = requests.get(url).json()\n",
        "#Finding the nearby venues from the results\n",
        "venues = results['response']['groups'][0]['items']\n",
        "    \n",
        "nearby_venues = json_normalize(venues) # flatten JSON\n",
        "\n",
        "# filter columns\n",
        "filtered_columns = ['venue.name', 'venue.categories', 'venue.location.lat', 'venue.location.lng']\n",
        "nearby_venues =nearby_venues.loc[:, filtered_columns]\n",
        "\n",
        "# filter the category for each row\n",
        "nearby_venues['venue.categories'] = nearby_venues.apply(get_category_type, axis=1)\n",
        "\n",
        "# clean columns\n",
        "nearby_venues.columns = [col.split(\".\")[-1] for col in nearby_venues.columns]\n",
        "#displaying the nearby venues to the sanctuary and other venues on the Gold Coast in Queensland, Australia\n",
        "nearby_venues"
      ],
      "execution_count": 11,
      "outputs": [
        {
          "output_type": "stream",
          "text": [
            "/usr/local/lib/python3.6/dist-packages/ipykernel_launcher.py:29: FutureWarning: pandas.io.json.json_normalize is deprecated, use pandas.json_normalize instead\n"
          ],
          "name": "stderr"
        },
        {
          "output_type": "execute_result",
          "data": {
            "text/html": [
              "<div>\n",
              "<style scoped>\n",
              "    .dataframe tbody tr th:only-of-type {\n",
              "        vertical-align: middle;\n",
              "    }\n",
              "\n",
              "    .dataframe tbody tr th {\n",
              "        vertical-align: top;\n",
              "    }\n",
              "\n",
              "    .dataframe thead th {\n",
              "        text-align: right;\n",
              "    }\n",
              "</style>\n",
              "<table border=\"1\" class=\"dataframe\">\n",
              "  <thead>\n",
              "    <tr style=\"text-align: right;\">\n",
              "      <th></th>\n",
              "      <th>name</th>\n",
              "      <th>categories</th>\n",
              "      <th>lat</th>\n",
              "      <th>lng</th>\n",
              "    </tr>\n",
              "  </thead>\n",
              "  <tbody>\n",
              "    <tr>\n",
              "      <th>0</th>\n",
              "      <td>Canyon Lookout</td>\n",
              "      <td>Scenic Lookout</td>\n",
              "      <td>-28.220682</td>\n",
              "      <td>153.272928</td>\n",
              "    </tr>\n",
              "    <tr>\n",
              "      <th>1</th>\n",
              "      <td>Black fella falls</td>\n",
              "      <td>Trail</td>\n",
              "      <td>-28.214168</td>\n",
              "      <td>153.272095</td>\n",
              "    </tr>\n",
              "    <tr>\n",
              "      <th>2</th>\n",
              "      <td>Glow Worm Research Centre</td>\n",
              "      <td>Tourist Information Center</td>\n",
              "      <td>-28.201076</td>\n",
              "      <td>153.271940</td>\n",
              "    </tr>\n",
              "    <tr>\n",
              "      <th>3</th>\n",
              "      <td>Warrie Circuit</td>\n",
              "      <td>Trail</td>\n",
              "      <td>-28.219903</td>\n",
              "      <td>153.272679</td>\n",
              "    </tr>\n",
              "    <tr>\n",
              "      <th>4</th>\n",
              "      <td>Rosella's Cafe &amp; Accommodation</td>\n",
              "      <td>Café</td>\n",
              "      <td>-28.220711</td>\n",
              "      <td>153.272524</td>\n",
              "    </tr>\n",
              "  </tbody>\n",
              "</table>\n",
              "</div>"
            ],
            "text/plain": [
              "                             name  ...         lng\n",
              "0                  Canyon Lookout  ...  153.272928\n",
              "1               Black fella falls  ...  153.272095\n",
              "2       Glow Worm Research Centre  ...  153.271940\n",
              "3                  Warrie Circuit  ...  153.272679\n",
              "4  Rosella's Cafe & Accommodation  ...  153.272524\n",
              "\n",
              "[5 rows x 4 columns]"
            ]
          },
          "metadata": {
            "tags": []
          },
          "execution_count": 11
        }
      ]
    },
    {
      "cell_type": "markdown",
      "metadata": {
        "id": "FQcx6KCwy9LG",
        "colab_type": "text"
      },
      "source": [
        "By looking at the dataframe above, since I increased the radius to 1500m instead of 500m, it is clear that all around this area are trails, nature preserves, and cliffs. The radius helps to prove that this region is densely forested and is the perfect protected spot for any herbivorous marsupial populations around. "
      ]
    },
    {
      "cell_type": "code",
      "metadata": {
        "id": "YHXRsfRdv4Eg",
        "colab_type": "code",
        "colab": {
          "base_uri": "https://localhost:8080/",
          "height": 777
        },
        "outputId": "45350f4d-c271-431b-87ff-2b7b802cb27a"
      },
      "source": [
        "# add markers to map\n",
        "map_trail = folium.Map(location= [latitude, longitude], zoom_start=13)\n",
        "for lat, lng, label in zip(nearby_venues['lat'], nearby_venues['lng'], nearby_venues['name']):\n",
        "    label = folium.Popup(label, parse_html=True)\n",
        "    folium.CircleMarker(\n",
        "        [lat, lng],\n",
        "        radius=5,\n",
        "        popup=label,\n",
        "        color='blue',\n",
        "        fill=True,\n",
        "        fill_color='#3186cc',\n",
        "        fill_opacity=0.7,\n",
        "        parse_html=False).add_to(map_trail)  \n",
        "    \n",
        "map_trail"
      ],
      "execution_count": 12,
      "outputs": [
        {
          "output_type": "execute_result",
          "data": {
            "text/html": [
              "<div style=\"width:100%;\"><div style=\"position:relative;width:100%;height:0;padding-bottom:60%;\"><span style=\"color:#565656\">Make this Notebook Trusted to load map: File -> Trust Notebook</span><iframe src=\"about:blank\" style=\"position:absolute;width:100%;height:100%;left:0;top:0;border:none !important;\" data-html=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 onload=\"this.contentDocument.open();this.contentDocument.write(atob(this.getAttribute('data-html')));this.contentDocument.close();\" allowfullscreen webkitallowfullscreen mozallowfullscreen></iframe></div></div>"
            ],
            "text/plain": [
              "<folium.folium.Map at 0x7fb84dfa59e8>"
            ]
          },
          "metadata": {
            "tags": []
          },
          "execution_count": 12
        }
      ]
    },
    {
      "cell_type": "markdown",
      "metadata": {
        "id": "cyhoNiATzSGQ",
        "colab_type": "text"
      },
      "source": [
        "The geospatial data above shows the very large amount of national parks, parks, nature reserves, and protected land around the Springbrook National Park. This further shows how much protected land the Gold Coast in Queensland has and further proves that tourists and those native to Australia should come to the Gold Coast if they desire to see herbivorous marsupial populations. This spot is the best chance for seeing them because these animals are able to live in harmony with nature and remain largely uninterrupted by man in these protected regions. "
      ]
    }
  ]
}